{
  "nbformat": 4,
  "nbformat_minor": 0,
  "metadata": {
    "colab": {
      "name": "cifar10_cnn.ipynb",
      "provenance": [],
      "authorship_tag": "ABX9TyPZLsoE5/rUuhavw6CG8wh4",
      "include_colab_link": true
    },
    "kernelspec": {
      "name": "python3",
      "display_name": "Python 3"
    },
    "language_info": {
      "name": "python"
    }
  },
  "cells": [
    {
      "cell_type": "markdown",
      "metadata": {
        "id": "view-in-github",
        "colab_type": "text"
      },
      "source": [
        "<a href=\"https://colab.research.google.com/github/tvanshika11/Doingsome-basic-functionalities-using-open-cv/blob/master/cifar10_cnn.ipynb\" target=\"_parent\"><img src=\"https://colab.research.google.com/assets/colab-badge.svg\" alt=\"Open In Colab\"/></a>"
      ]
    },
    {
      "cell_type": "code",
      "metadata": {
        "id": "T9ncHW5DAnHm"
      },
      "source": [
        "import tensorflow as tf\n",
        "from tensorflow.keras import datasets, layers, models\n",
        "import matplotlib.pyplot as plt\n",
        "import numpy as np"
      ],
      "execution_count": 1,
      "outputs": []
    },
    {
      "cell_type": "code",
      "metadata": {
        "colab": {
          "base_uri": "https://localhost:8080/"
        },
        "id": "hCHtzAncEFta",
        "outputId": "caeb538b-a5d2-43a4-c4e3-9f031d72d948"
      },
      "source": [
        "(X_train,y_train),(X_test,y_test) = datasets.cifar10.load_data()\n",
        "X_train.shape"
      ],
      "execution_count": 3,
      "outputs": [
        {
          "output_type": "execute_result",
          "data": {
            "text/plain": [
              "(50000, 32, 32, 3)"
            ]
          },
          "metadata": {
            "tags": []
          },
          "execution_count": 3
        }
      ]
    },
    {
      "cell_type": "code",
      "metadata": {
        "colab": {
          "base_uri": "https://localhost:8080/"
        },
        "id": "8cNb7ix3EOb-",
        "outputId": "15982bfd-85af-42a6-9258-6005d6ccde4e"
      },
      "source": [
        "X_test.shape"
      ],
      "execution_count": 4,
      "outputs": [
        {
          "output_type": "execute_result",
          "data": {
            "text/plain": [
              "(10000, 32, 32, 3)"
            ]
          },
          "metadata": {
            "tags": []
          },
          "execution_count": 4
        }
      ]
    },
    {
      "cell_type": "code",
      "metadata": {
        "colab": {
          "base_uri": "https://localhost:8080/"
        },
        "id": "bC3IH0tUEowG",
        "outputId": "8a970345-5e55-403d-ac90-90f6842fc998"
      },
      "source": [
        "X_train[0]"
      ],
      "execution_count": 5,
      "outputs": [
        {
          "output_type": "execute_result",
          "data": {
            "text/plain": [
              "array([[[ 59,  62,  63],\n",
              "        [ 43,  46,  45],\n",
              "        [ 50,  48,  43],\n",
              "        ...,\n",
              "        [158, 132, 108],\n",
              "        [152, 125, 102],\n",
              "        [148, 124, 103]],\n",
              "\n",
              "       [[ 16,  20,  20],\n",
              "        [  0,   0,   0],\n",
              "        [ 18,   8,   0],\n",
              "        ...,\n",
              "        [123,  88,  55],\n",
              "        [119,  83,  50],\n",
              "        [122,  87,  57]],\n",
              "\n",
              "       [[ 25,  24,  21],\n",
              "        [ 16,   7,   0],\n",
              "        [ 49,  27,   8],\n",
              "        ...,\n",
              "        [118,  84,  50],\n",
              "        [120,  84,  50],\n",
              "        [109,  73,  42]],\n",
              "\n",
              "       ...,\n",
              "\n",
              "       [[208, 170,  96],\n",
              "        [201, 153,  34],\n",
              "        [198, 161,  26],\n",
              "        ...,\n",
              "        [160, 133,  70],\n",
              "        [ 56,  31,   7],\n",
              "        [ 53,  34,  20]],\n",
              "\n",
              "       [[180, 139,  96],\n",
              "        [173, 123,  42],\n",
              "        [186, 144,  30],\n",
              "        ...,\n",
              "        [184, 148,  94],\n",
              "        [ 97,  62,  34],\n",
              "        [ 83,  53,  34]],\n",
              "\n",
              "       [[177, 144, 116],\n",
              "        [168, 129,  94],\n",
              "        [179, 142,  87],\n",
              "        ...,\n",
              "        [216, 184, 140],\n",
              "        [151, 118,  84],\n",
              "        [123,  92,  72]]], dtype=uint8)"
            ]
          },
          "metadata": {
            "tags": []
          },
          "execution_count": 5
        }
      ]
    },
    {
      "cell_type": "code",
      "metadata": {
        "colab": {
          "base_uri": "https://localhost:8080/",
          "height": 283
        },
        "id": "44FWo_rCEyCL",
        "outputId": "4f0eccde-122c-45ea-8794-084d36954b84"
      },
      "source": [
        "plt.imshow(X_train[0])"
      ],
      "execution_count": 6,
      "outputs": [
        {
          "output_type": "execute_result",
          "data": {
            "text/plain": [
              "<matplotlib.image.AxesImage at 0x7f82015b6e50>"
            ]
          },
          "metadata": {
            "tags": []
          },
          "execution_count": 6
        },
        {
          "output_type": "display_data",
          "data": {
            "image/png": "[encoded data removed]",
            "text/plain": [
              "<Figure size 432x288 with 1 Axes>"
            ]
          },
          "metadata": {
            "tags": [],
            "needs_background": "light"
          }
        }
      ]
    },
    {
      "cell_type": "code",
      "metadata": {
        "colab": {
          "base_uri": "https://localhost:8080/",
          "height": 176
        },
        "id": "iIt_OLqlFKUk",
        "outputId": "7c54d529-af0f-420a-8ca4-afd73db7551b"
      },
      "source": [
        "plt.figure(figsize = (15,2))\n",
        "plt.imshow(X_train[0])"
      ],
      "execution_count": 7,
      "outputs": [
        {
          "output_type": "execute_result",
          "data": {
            "text/plain": [
              "<matplotlib.image.AxesImage at 0x7f8201531210>"
            ]
          },
          "metadata": {
            "tags": []
          },
          "execution_count": 7
        },
        {
          "output_type": "display_data",
          "data": {
            "image/png": "[encoded data removed]",
            "text/plain": [
              "<Figure size 1080x144 with 1 Axes>"
            ]
          },
          "metadata": {
            "tags": [],
            "needs_background": "light"
          }
        }
      ]
    },
    {
      "cell_type": "code",
      "metadata": {
        "colab": {
          "base_uri": "https://localhost:8080/",
          "height": 283
        },
        "id": "SsNC5j1EFVGt",
        "outputId": "f408c69d-4977-4cde-c116-ff99a408ca37"
      },
      "source": [
        "plt.imshow(X_train[1])"
      ],
      "execution_count": 9,
      "outputs": [
        {
          "output_type": "execute_result",
          "data": {
            "text/plain": [
              "<matplotlib.image.AxesImage at 0x7f8201548d10>"
            ]
          },
          "metadata": {
            "tags": []
          },
          "execution_count": 9
        },
        {
          "output_type": "display_data",
          "data": {
            "image/png": "[encoded data removed]",
            "text/plain": [
              "<Figure size 432x288 with 1 Axes>"
            ]
          },
          "metadata": {
            "tags": [],
            "needs_background": "light"
          }
        }
      ]
    },
    {
      "cell_type": "code",
      "metadata": {
        "id": "jHlymoCeFbFn"
      },
      "source": [
        "classes = [\"airplane\",\"automobile\",\"bird\",\"cat\",\"deer\",\"dog\",\"frog\",\"horse\",\"ship\",\"truck\"]"
      ],
      "execution_count": 10,
      "outputs": []
    },
    {
      "cell_type": "code",
      "metadata": {
        "colab": {
          "base_uri": "https://localhost:8080/"
        },
        "id": "22hOSvqTG91_",
        "outputId": "e5086af5-c112-48e0-cbab-7f642df3e442"
      },
      "source": [
        "y_train[:5]"
      ],
      "execution_count": 11,
      "outputs": [
        {
          "output_type": "execute_result",
          "data": {
            "text/plain": [
              "array([[6],\n",
              "       [9],\n",
              "       [9],\n",
              "       [4],\n",
              "       [1]], dtype=uint8)"
            ]
          },
          "metadata": {
            "tags": []
          },
          "execution_count": 11
        }
      ]
    },
    {
      "cell_type": "code",
      "metadata": {
        "colab": {
          "base_uri": "https://localhost:8080/"
        },
        "id": "7o_9sIDmHGDq",
        "outputId": "a2ed6c92-a841-4858-88dc-b023fda6f019"
      },
      "source": [
        "y_train.shape"
      ],
      "execution_count": 13,
      "outputs": [
        {
          "output_type": "execute_result",
          "data": {
            "text/plain": [
              "(50000, 1)"
            ]
          },
          "metadata": {
            "tags": []
          },
          "execution_count": 13
        }
      ]
    },
    {
      "cell_type": "code",
      "metadata": {
        "colab": {
          "base_uri": "https://localhost:8080/"
        },
        "id": "VBocehVAHaWW",
        "outputId": "0e3cd10c-0c0e-43d0-a81b-07945d38e05e"
      },
      "source": [
        "y_train = y_train.reshape(-1,)\n",
        "y_train[:5]"
      ],
      "execution_count": 14,
      "outputs": [
        {
          "output_type": "execute_result",
          "data": {
            "text/plain": [
              "array([6, 9, 9, 4, 1], dtype=uint8)"
            ]
          },
          "metadata": {
            "tags": []
          },
          "execution_count": 14
        }
      ]
    },
    {
      "cell_type": "code",
      "metadata": {
        "id": "r1qRwyLKGFsg"
      },
      "source": [
        "def plot_sample(X,y,index):\n",
        "  plt.figure(figsize = (15,2))\n",
        "  plt.imshow(X[index])\n",
        "  plt.xlabel(classes[y[index]])"
      ],
      "execution_count": 15,
      "outputs": []
    },
    {
      "cell_type": "code",
      "metadata": {
        "colab": {
          "base_uri": "https://localhost:8080/",
          "height": 173
        },
        "id": "uZUyyD4LHFCj",
        "outputId": "5005b293-a507-4fc0-efe0-2b9ca9cb5524"
      },
      "source": [
        "plot_sample(X_train,y_train,1)"
      ],
      "execution_count": 16,
      "outputs": [
        {
          "output_type": "display_data",
          "data": {
            "image/png": "[encoded data removed]",
            "text/plain": [
              "<Figure size 1080x144 with 1 Axes>"
            ]
          },
          "metadata": {
            "tags": [],
            "needs_background": "light"
          }
        }
      ]
    },
    {
      "cell_type": "markdown",
      "metadata": {
        "id": "_5zyDjJiItyL"
      },
      "source": [
        "**Normalising train and test sets by dividing by 255*"
      ]
    },
    {
      "cell_type": "code",
      "metadata": {
        "id": "OCwLwpNJIbKS"
      },
      "source": [
        "X_train = X_train/255\n",
        "X_test = X_test/255"
      ],
      "execution_count": 17,
      "outputs": []
    },
    {
      "cell_type": "code",
      "metadata": {
        "id": "9AsyCV5GJFCx"
      },
      "source": [
        "cnn = models.Sequential([\n",
        "                         #cnn\n",
        "                         layers.Conv2D(filters=32, kernel_size = (3,3), activation = 'relu', input_shape=(32,32,3)),\n",
        "                         layers.MaxPooling2D((2,2)),\n",
        "\n",
        "                         layers.Conv2D(filters=32, kernel_size = (3,3), activation = 'relu', input_shape=(32,32,3)),\n",
        "                         layers.MaxPooling2D((2,2)),\n",
        "                         #dense\n",
        "                         layers.Flatten(),\n",
        "                         layers.Dense(64, activation='relu'),\n",
        "                         layers.Dense(10, activation='softmax')\n",
        "])"
      ],
      "execution_count": 19,
      "outputs": []
    },
    {
      "cell_type": "code",
      "metadata": {
        "id": "6q1AALdcMOMY"
      },
      "source": [
        "cnn.compile(optimizer='adam',\n",
        "              loss='sparse_categorical_crossentropy',\n",
        "              metrics=['accuracy'])"
      ],
      "execution_count": 20,
      "outputs": []
    },
    {
      "cell_type": "code",
      "metadata": {
        "colab": {
          "base_uri": "https://localhost:8080/"
        },
        "id": "FCDCnqmVMn7E",
        "outputId": "f4f818ba-8f13-4c35-8b5e-19904e40f253"
      },
      "source": [
        "cnn.fit(X_train, y_train, epochs=10)"
      ],
      "execution_count": 21,
      "outputs": [
        {
          "output_type": "stream",
          "text": [
            "Epoch 1/10\n",
            "1563/1563 [==============================] - 51s 32ms/step - loss: 1.4728 - accuracy: 0.4690\n",
            "Epoch 2/10\n",
            "1563/1563 [==============================] - 51s 33ms/step - loss: 1.1414 - accuracy: 0.5978\n",
            "Epoch 3/10\n",
            "1563/1563 [==============================] - 51s 33ms/step - loss: 1.0166 - accuracy: 0.6438\n",
            "Epoch 4/10\n",
            "1563/1563 [==============================] - 51s 32ms/step - loss: 0.9386 - accuracy: 0.6708\n",
            "Epoch 5/10\n",
            "1563/1563 [==============================] - 51s 32ms/step - loss: 0.8689 - accuracy: 0.6960\n",
            "Epoch 6/10\n",
            "1563/1563 [==============================] - 51s 32ms/step - loss: 0.8170 - accuracy: 0.7136\n",
            "Epoch 7/10\n",
            "1563/1563 [==============================] - 51s 33ms/step - loss: 0.7778 - accuracy: 0.7283\n",
            "Epoch 8/10\n",
            "1563/1563 [==============================] - 51s 33ms/step - loss: 0.7348 - accuracy: 0.7435\n",
            "Epoch 9/10\n",
            "1563/1563 [==============================] - 51s 33ms/step - loss: 0.7010 - accuracy: 0.7553\n",
            "Epoch 10/10\n",
            "1563/1563 [==============================] - 51s 32ms/step - loss: 0.6649 - accuracy: 0.7678\n"
          ],
          "name": "stdout"
        },
        {
          "output_type": "execute_result",
          "data": {
            "text/plain": [
              "<tensorflow.python.keras.callbacks.History at 0x7f8200f671d0>"
            ]
          },
          "metadata": {
            "tags": []
          },
          "execution_count": 21
        }
      ]
    },
    {
      "cell_type": "code",
      "metadata": {
        "colab": {
          "base_uri": "https://localhost:8080/"
        },
        "id": "iJDb5cBZMvVU",
        "outputId": "ba9a4c6b-9e9b-4118-c8f5-282746617855"
      },
      "source": [
        "cnn.evaluate(X_test,y_test)"
      ],
      "execution_count": 22,
      "outputs": [
        {
          "output_type": "stream",
          "text": [
            "313/313 [==============================] - 3s 9ms/step - loss: 0.9145 - accuracy: 0.6935\n"
          ],
          "name": "stdout"
        },
        {
          "output_type": "execute_result",
          "data": {
            "text/plain": [
              "[0.9144654273986816, 0.6934999823570251]"
            ]
          },
          "metadata": {
            "tags": []
          },
          "execution_count": 22
        }
      ]
    },
    {
      "cell_type": "code",
      "metadata": {
        "colab": {
          "base_uri": "https://localhost:8080/",
          "height": 173
        },
        "id": "2neLtswqPJGM",
        "outputId": "f432b4aa-e922-410d-8866-93db0b0e5aee"
      },
      "source": [
        "y_test = y_test.reshape(-1,)\n",
        "plot_sample(X_test,y_test,1)"
      ],
      "execution_count": 23,
      "outputs": [
        {
          "output_type": "display_data",
          "data": {
            "image/png": "[encoded data removed]",
            "text/plain": [
              "<Figure size 1080x144 with 1 Axes>"
            ]
          },
          "metadata": {
            "tags": [],
            "needs_background": "light"
          }
        }
      ]
    },
    {
      "cell_type": "code",
      "metadata": {
        "colab": {
          "base_uri": "https://localhost:8080/"
        },
        "id": "YnXCfXAgParv",
        "outputId": "a331b84b-1e86-44a1-cd49-7c66f40925dc"
      },
      "source": [
        "y_pred = cnn.predict(X_test)\n",
        "y_pred[:5]"
      ],
      "execution_count": 24,
      "outputs": [
        {
          "output_type": "execute_result",
          "data": {
            "text/plain": [
              "array([[1.5140332e-03, 1.4895861e-04, 1.9655118e-02, 6.3525194e-01,\n",
              "        4.0855125e-02, 2.0141359e-01, 9.9581301e-02, 1.5751435e-04,\n",
              "        6.3902064e-04, 7.8340230e-04],\n",
              "       [1.1430098e-02, 2.2118639e-02, 1.0996126e-07, 8.2776285e-07,\n",
              "        4.8616838e-10, 7.6511029e-09, 6.1627321e-09, 2.4105844e-07,\n",
              "        9.6622223e-01, 2.2777653e-04],\n",
              "       [1.0628529e-01, 2.8017638e-02, 3.2146927e-03, 6.9156731e-03,\n",
              "        7.1368291e-04, 1.6361194e-03, 1.5028517e-04, 2.8708810e-02,\n",
              "        7.0670187e-01, 1.1765591e-01],\n",
              "       [9.5816213e-01, 4.3908143e-03, 1.5344517e-03, 4.1032484e-04,\n",
              "        8.2284394e-05, 7.6559336e-06, 9.5520780e-05, 4.1543470e-05,\n",
              "        3.4086950e-02, 1.1883593e-03],\n",
              "       [3.3582073e-05, 3.4066728e-05, 5.4446287e-02, 1.1867529e-02,\n",
              "        4.1928640e-01, 6.3668919e-04, 5.1344544e-01, 5.3820313e-05,\n",
              "        9.4817842e-06, 1.8677134e-04]], dtype=float32)"
            ]
          },
          "metadata": {
            "tags": []
          },
          "execution_count": 24
        }
      ]
    },
    {
      "cell_type": "code",
      "metadata": {
        "colab": {
          "base_uri": "https://localhost:8080/"
        },
        "id": "O-JfUARjPtwY",
        "outputId": "a96381ca-c4d4-4d7d-f698-abb70a471111"
      },
      "source": [
        "y_classes = [np.argmax(element) for element in y_pred]\n",
        "y_classes[:5]"
      ],
      "execution_count": 25,
      "outputs": [
        {
          "output_type": "execute_result",
          "data": {
            "text/plain": [
              "[3, 8, 8, 0, 6]"
            ]
          },
          "metadata": {
            "tags": []
          },
          "execution_count": 25
        }
      ]
    },
    {
      "cell_type": "code",
      "metadata": {
        "colab": {
          "base_uri": "https://localhost:8080/"
        },
        "id": "Qjj1LfTmQkYD",
        "outputId": "d701f9d5-bdc2-408a-a08c-979a15a1a81c"
      },
      "source": [
        "y_test[:5]"
      ],
      "execution_count": 26,
      "outputs": [
        {
          "output_type": "execute_result",
          "data": {
            "text/plain": [
              "array([3, 8, 8, 0, 6], dtype=uint8)"
            ]
          },
          "metadata": {
            "tags": []
          },
          "execution_count": 26
        }
      ]
    },
    {
      "cell_type": "code",
      "metadata": {
        "colab": {
          "base_uri": "https://localhost:8080/",
          "height": 35
        },
        "id": "AWaHIvTwQolp",
        "outputId": "2865bf32-0ccb-42d8-c1b5-36295ec6a1e0"
      },
      "source": [
        "classes[y_classes[5]]"
      ],
      "execution_count": 29,
      "outputs": [
        {
          "output_type": "execute_result",
          "data": {
            "application/vnd.google.colaboratory.intrinsic+json": {
              "type": "string"
            },
            "text/plain": [
              "'frog'"
            ]
          },
          "metadata": {
            "tags": []
          },
          "execution_count": 29
        }
      ]
    },
    {
      "cell_type": "code",
      "metadata": {
        "colab": {
          "base_uri": "https://localhost:8080/",
          "height": 173
        },
        "id": "VX4mW40QRJdX",
        "outputId": "20220c4d-f195-426d-9e30-a345ed6cee80"
      },
      "source": [
        "plot_sample(X_test,y_test,0)"
      ],
      "execution_count": 30,
      "outputs": [
        {
          "output_type": "display_data",
          "data": {
            "image/png": "[encoded data removed]",
            "text/plain": [
              "<Figure size 1080x144 with 1 Axes>"
            ]
          },
          "metadata": {
            "tags": [],
            "needs_background": "light"
          }
        }
      ]
    },
    {
      "cell_type": "code",
      "metadata": {
        "colab": {
          "base_uri": "https://localhost:8080/",
          "height": 35
        },
        "id": "T8kHPEACRhVg",
        "outputId": "dc42ba26-de48-4b82-aac6-6549b789664e"
      },
      "source": [
        "classes[y_classes[0]]"
      ],
      "execution_count": 32,
      "outputs": [
        {
          "output_type": "execute_result",
          "data": {
            "application/vnd.google.colaboratory.intrinsic+json": {
              "type": "string"
            },
            "text/plain": [
              "'cat'"
            ]
          },
          "metadata": {
            "tags": []
          },
          "execution_count": 32
        }
      ]
    },
    {
      "cell_type": "code",
      "metadata": {
        "id": "oTBql-epRmbn"
      },
      "source": [
        ""
      ],
      "execution_count": null,
      "outputs": []
    }
  ]
}